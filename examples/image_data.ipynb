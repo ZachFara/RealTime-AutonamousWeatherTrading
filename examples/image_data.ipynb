{
 "cells": [
  {
   "cell_type": "code",
   "execution_count": 2,
   "metadata": {},
   "outputs": [
    {
     "name": "stdout",
     "output_type": "stream",
     "text": [
      "{'date': '2024-02-24', 'explanation': \"Intuitive Machines' robotic lander Odysseus has accomplished the first U.S. landing on the Moon since the Apollo 17 mission in 1972. Launched on a SpaceX rocket on February 15, the phone booth sized lander reached lunar orbit on the 21st and touched down on the lunar surface at 6:23 pm ET on February 22nd. Its landing region is about 300 kilometers north of the Moon's south pole, near a crater designated Malapert A. Resting on its side, the lander is presently collecting solar power and transmitting data back to the Intuitive Machines' mission control center in Houston. The mission marks the first commercial uncrewed landing on the Moon. Prior to landing, Odysseus’ camera captured this extreme wide angle image (landing legs visible at right) as it flew over Schomberger crater some 200 kilometers from its landing site. Odysseus was still about 10 kilometers above the lunar surface.\", 'hdurl': 'https://apod.nasa.gov/apod/image/2402/im-moon-imageFeb23_1024.jpg', 'media_type': 'image', 'service_version': 'v1', 'title': 'Odysseus to the Moon', 'url': 'https://apod.nasa.gov/apod/image/2402/im-moon-imageFeb23_1024.jpg'}\n"
     ]
    }
   ],
   "source": [
    "import requests\n",
    "\n",
    "api_key = \"tEdVoKjbCzRuX1SnQPZyZYVzUlsZSrauLdxmMIWt\"\n",
    "url = f\"https://api.nasa.gov/planetary/apod?api_key={api_key}\"\n",
    "\n",
    "response = requests.get(url)\n",
    "data = response.json()\n",
    "\n",
    "print(data)"
   ]
  },
  {
   "cell_type": "code",
   "execution_count": 3,
   "metadata": {},
   "outputs": [
    {
     "name": "stdout",
     "output_type": "stream",
     "text": [
      "https://epic.gsfc.nasa.gov/archive/natural/2024/02/23/png/epic_1b_20240223002712.png\n"
     ]
    }
   ],
   "source": [
    "url = f\"https://api.nasa.gov/EPIC/api/natural?api_key={api_key}\"\n",
    "\n",
    "response = requests.get(url)\n",
    "images = response.json()\n",
    "\n",
    "# Print the URL of the latest image\n",
    "if images:\n",
    "    image_date = images[0]['date'].split()[0].replace('-', '/')\n",
    "    image_name = images[0]['image']\n",
    "    print(f\"https://epic.gsfc.nasa.gov/archive/natural/{image_date}/png/{image_name}.png\")"
   ]
  },
  {
   "cell_type": "code",
   "execution_count": 4,
   "metadata": {},
   "outputs": [],
   "source": [
    "import ee\n",
    "import requests\n",
    "from PIL import Image\n",
    "\n",
    "ee.Authenticate()\n",
    "\n",
    "ee.Initialize()"
   ]
  },
  {
   "cell_type": "code",
   "execution_count": 14,
   "metadata": {},
   "outputs": [],
   "source": [
    "\n",
    "point = ee.Geometry.Point([-74.011227, 40.706556])\n",
    "rectangle = ee.Geometry.Rectangle([-125, 24, -66, 50])\n",
    "startDate = ee.Date('2020-01-01')\n",
    "endDate = ee.Date('2023-01-01')\n",
    "\n",
    "# Load Landsat 8 imagery\n",
    "landsat = ee.ImageCollection('LANDSAT/LC08/C01/T1_SR') \\\n",
    "            .filterBounds(rectangle) \\\n",
    "            .filterDate(startDate, endDate) \\\n",
    "            .sort('CLOUD_COVER') \\\n",
    "            .first()\n",
    "\n",
    "# Print the map URL\n",
    "url = landsat.getThumbURL({'min': 0, 'max': 3000, 'dimensions': '1600x1600', 'bands': ['B4', 'B3', 'B2']})\n",
    "\n",
    "# Download the image\n",
    "response = requests.get(url)\n",
    "\n",
    "# Save the image\n",
    "save_path = 'image.jpg'\n",
    "with open(save_path, 'wb') as file:\n",
    "    file.write(response.content)\n",
    "\n",
    "# Print the image\n",
    "Image.open(save_path).show()\n"
   ]
  },
  {
   "cell_type": "code",
   "execution_count": 20,
   "metadata": {},
   "outputs": [],
   "source": [
    "\n",
    "class SattelieImage:\n",
    "    def __init__(self, image_location:list, start_date:str, end_date:str):\n",
    "        \"\"\"image_location is a list of lat, longs. If you have just one then it will take a square image around that point.\n",
    "          If you give two then it will make a rectange with those two points being the corners of the rectangle.\"\"\"\n",
    "        self.image_location = image_location\n",
    "        self.start_data = start_date\n",
    "        self.end_date = end_date\n",
    "        self.url = None\n",
    "\n",
    "        assert ee is not None, \"Please authenticate and initialize Earth Engine\"\n",
    "        assert len(image_location) == 2 or len(image_location) == 4, \"Please enter either two or four lat, longs\"\n",
    "        assert requests is not None, \"Please install the requests library\"\n",
    "        assert Image is not None, \"Please install the PIL library\"\n",
    "        \n",
    "    \n",
    "    def update_location(self, new_location):\n",
    "        self.image_location = new_location\n",
    "        self.url = None\n",
    "    \n",
    "    def update_dates(self, new_start_date, new_end_date):\n",
    "        self.start_date = new_start_date\n",
    "        self.end_date = new_end_date\n",
    "        self.url = None\n",
    "        \n",
    "    def get_map_url(self):\n",
    "\n",
    "        if len(self.image_location) == 2:\n",
    "            rectangle = ee.Geometry.Point(self.image_location)\n",
    "        elif len(self.image_location) == 4:\n",
    "            rectangle = ee.Geometry.Rectangle(self.image_location)\n",
    "        else:\n",
    "            print(\"Please enter either two or four lat, longs\")\n",
    "            return None\n",
    "        \n",
    "        landsat = ee.ImageCollection('LANDSAT/LC08/C01/T1_SR') \\\n",
    "            .filterBounds(rectangle) \\\n",
    "            .filterDate(startDate, endDate) \\\n",
    "            .sort('CLOUD_COVER') \\\n",
    "            .first()\n",
    "\n",
    "\n",
    "        url = landsat.getThumbURL({'min': 0, 'max': 3000, 'dimensions': '1600x1600', 'bands': ['B4', 'B3', 'B2']})\n",
    "        self.url = url\n",
    "        return url\n",
    "    \n",
    "    def download_image(self, url = None):\n",
    "        if url is None:\n",
    "            if self.url is None:\n",
    "                url = self.get_map_url()\n",
    "            else:\n",
    "                url = self.url\n",
    "        \n",
    "        response = requests.get(url)\n",
    "        save_path = 'image.jpg'\n",
    "        with open(save_path, 'wb') as file:\n",
    "            file.write(response.content)\n",
    "        return save_path\n",
    "    \n",
    "    def show_image(self, path = None):\n",
    "        if path is None:\n",
    "            path = self.download_image()\n",
    "        Image.open(path).show()\n",
    "        return None\n",
    "    \n",
    "satImage = SattelieImage([-74.011227, 40.706556], '2020-01-01', '2023-01-01')\n",
    "satImage.show_image()\n"
   ]
  },
  {
   "cell_type": "code",
   "execution_count": 22,
   "metadata": {},
   "outputs": [],
   "source": [
    "satImage.update_location([-87.684485, 41.910093, -87.620502, 41.864073])\n",
    "satImage.show_image()"
   ]
  },
  {
   "cell_type": "code",
   "execution_count": null,
   "metadata": {},
   "outputs": [],
   "source": []
  }
 ],
 "metadata": {
  "kernelspec": {
   "display_name": "tf_gpu_env",
   "language": "python",
   "name": "python3"
  },
  "language_info": {
   "codemirror_mode": {
    "name": "ipython",
    "version": 3
   },
   "file_extension": ".py",
   "mimetype": "text/x-python",
   "name": "python",
   "nbconvert_exporter": "python",
   "pygments_lexer": "ipython3",
   "version": "3.10.12"
  }
 },
 "nbformat": 4,
 "nbformat_minor": 2
}
