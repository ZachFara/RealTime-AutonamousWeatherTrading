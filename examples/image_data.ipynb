{
 "cells": [
  {
   "cell_type": "code",
   "execution_count": 1,
   "metadata": {},
   "outputs": [
    {
     "name": "stdout",
     "output_type": "stream",
     "text": [
      "{'date': '2024-02-24', 'explanation': \"Intuitive Machines' robotic lander Odysseus has accomplished the first U.S. landing on the Moon since the Apollo 17 mission in 1972. Launched on a SpaceX rocket on February 15, the phone booth sized lander reached lunar orbit on the 21st and touched down on the lunar surface at 6:23 pm ET on February 22nd. Its landing region is about 300 kilometers north of the Moon's south pole, near a crater designated Malapert A. Resting on its side, the lander is presently collecting solar power and transmitting data back to the Intuitive Machines' mission control center in Houston. The mission marks the first commercial uncrewed landing on the Moon. Prior to landing, Odysseus’ camera captured this extreme wide angle image (landing legs visible at right) as it flew over Schomberger crater some 200 kilometers from its landing site. Odysseus was still about 10 kilometers above the lunar surface.\", 'hdurl': 'https://apod.nasa.gov/apod/image/2402/im-moon-imageFeb23_1024.jpg', 'media_type': 'image', 'service_version': 'v1', 'title': 'Odysseus to the Moon', 'url': 'https://apod.nasa.gov/apod/image/2402/im-moon-imageFeb23_1024.jpg'}\n"
     ]
    }
   ],
   "source": [
    "import requests\n",
    "\n",
    "api_key = \"tEdVoKjbCzRuX1SnQPZyZYVzUlsZSrauLdxmMIWt\"\n",
    "url = f\"https://api.nasa.gov/planetary/apod?api_key={api_key}\"\n",
    "\n",
    "response = requests.get(url)\n",
    "data = response.json()\n",
    "\n",
    "print(data)"
   ]
  },
  {
   "cell_type": "code",
   "execution_count": 3,
   "metadata": {},
   "outputs": [
    {
     "name": "stdout",
     "output_type": "stream",
     "text": [
      "https://epic.gsfc.nasa.gov/archive/natural/2024/02/23/png/epic_1b_20240223002712.png\n"
     ]
    }
   ],
   "source": [
    "url = f\"https://api.nasa.gov/EPIC/api/natural?api_key={api_key}\"\n",
    "\n",
    "response = requests.get(url)\n",
    "images = response.json()\n",
    "\n",
    "# Print the URL of the latest image\n",
    "if images:\n",
    "    image_date = images[0]['date'].split()[0].replace('-', '/')\n",
    "    image_name = images[0]['image']\n",
    "    print(f\"https://epic.gsfc.nasa.gov/archive/natural/{image_date}/png/{image_name}.png\")"
   ]
  }
 ],
 "metadata": {
  "kernelspec": {
   "display_name": "tf_gpu_env",
   "language": "python",
   "name": "python3"
  },
  "language_info": {
   "codemirror_mode": {
    "name": "ipython",
    "version": 3
   },
   "file_extension": ".py",
   "mimetype": "text/x-python",
   "name": "python",
   "nbconvert_exporter": "python",
   "pygments_lexer": "ipython3",
   "version": "3.10.12"
  }
 },
 "nbformat": 4,
 "nbformat_minor": 2
}
